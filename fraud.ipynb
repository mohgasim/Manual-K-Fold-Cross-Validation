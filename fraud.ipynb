{
 "cells": [
  {
   "cell_type": "markdown",
   "metadata": {},
   "source": [
    "## Manually Creating a K-Fold Cross Validation Algorithm\n",
    "#### Optimizing Recall and Precision for Imbalaced Datasets"
   ]
  },
  {
   "cell_type": "markdown",
   "metadata": {},
   "source": [
    "### By Mohammed Azhari Gasim (email: mohammedagasim@gmail.com)\n",
    "\n",
    "#### Introduction\n",
    "Running classification algorithms on a imbalanced dataset involves the challenge of achieving a high recall score while maintaining a reasonable precision score. Here I attempt to do this with a dataset containing credit card transactions, a small number of which are fraudulent. In the process I demonstrate how to manually create a K-Fold Cross Validation Algorithm that allows the user greater control of hyperparameters. \n",
    "\n",
    "The dataset has been collected and analysed during a research collaboration of Worldline and the Machine Learning Group (http://mlg.ulb.ac.be) of ULB (Université Libre de Bruxelles) on big data mining and fraud detection.\n",
    "\n",
    "I will follow the process below:\n",
    "1. Running a cross validated Logistic Regression Classification algorithm on the raw data to establish baseline performance.\n",
    "2. Manually creating a 10-fold cross validated Logistic Regression algorithm.\n",
    "3. Using the manually created algorithm to adjust probability thresholds.\n",
    "4. Feature selection using coefficient p-values."
   ]
  },
  {
   "cell_type": "markdown",
   "metadata": {},
   "source": [
    "#### The Dataset\n",
    "First I import the data using pandas."
   ]
  },
  {
   "cell_type": "code",
   "execution_count": 1,
   "metadata": {},
   "outputs": [
    {
     "data": {
      "text/html": [
       "<div>\n",
       "<style scoped>\n",
       "    .dataframe tbody tr th:only-of-type {\n",
       "        vertical-align: middle;\n",
       "    }\n",
       "\n",
       "    .dataframe tbody tr th {\n",
       "        vertical-align: top;\n",
       "    }\n",
       "\n",
       "    .dataframe thead th {\n",
       "        text-align: right;\n",
       "    }\n",
       "</style>\n",
       "<table border=\"1\" class=\"dataframe\">\n",
       "  <thead>\n",
       "    <tr style=\"text-align: right;\">\n",
       "      <th></th>\n",
       "      <th>Time</th>\n",
       "      <th>V1</th>\n",
       "      <th>V2</th>\n",
       "      <th>V3</th>\n",
       "      <th>V4</th>\n",
       "      <th>V5</th>\n",
       "      <th>V6</th>\n",
       "      <th>V7</th>\n",
       "      <th>V8</th>\n",
       "      <th>V9</th>\n",
       "      <th>...</th>\n",
       "      <th>V21</th>\n",
       "      <th>V22</th>\n",
       "      <th>V23</th>\n",
       "      <th>V24</th>\n",
       "      <th>V25</th>\n",
       "      <th>V26</th>\n",
       "      <th>V27</th>\n",
       "      <th>V28</th>\n",
       "      <th>Amount</th>\n",
       "      <th>Class</th>\n",
       "    </tr>\n",
       "  </thead>\n",
       "  <tbody>\n",
       "    <tr>\n",
       "      <th>0</th>\n",
       "      <td>0.0</td>\n",
       "      <td>-1.359807</td>\n",
       "      <td>-0.072781</td>\n",
       "      <td>2.536347</td>\n",
       "      <td>1.378155</td>\n",
       "      <td>-0.338321</td>\n",
       "      <td>0.462388</td>\n",
       "      <td>0.239599</td>\n",
       "      <td>0.098698</td>\n",
       "      <td>0.363787</td>\n",
       "      <td>...</td>\n",
       "      <td>-0.018307</td>\n",
       "      <td>0.277838</td>\n",
       "      <td>-0.110474</td>\n",
       "      <td>0.066928</td>\n",
       "      <td>0.128539</td>\n",
       "      <td>-0.189115</td>\n",
       "      <td>0.133558</td>\n",
       "      <td>-0.021053</td>\n",
       "      <td>149.62</td>\n",
       "      <td>0</td>\n",
       "    </tr>\n",
       "    <tr>\n",
       "      <th>1</th>\n",
       "      <td>0.0</td>\n",
       "      <td>1.191857</td>\n",
       "      <td>0.266151</td>\n",
       "      <td>0.166480</td>\n",
       "      <td>0.448154</td>\n",
       "      <td>0.060018</td>\n",
       "      <td>-0.082361</td>\n",
       "      <td>-0.078803</td>\n",
       "      <td>0.085102</td>\n",
       "      <td>-0.255425</td>\n",
       "      <td>...</td>\n",
       "      <td>-0.225775</td>\n",
       "      <td>-0.638672</td>\n",
       "      <td>0.101288</td>\n",
       "      <td>-0.339846</td>\n",
       "      <td>0.167170</td>\n",
       "      <td>0.125895</td>\n",
       "      <td>-0.008983</td>\n",
       "      <td>0.014724</td>\n",
       "      <td>2.69</td>\n",
       "      <td>0</td>\n",
       "    </tr>\n",
       "    <tr>\n",
       "      <th>2</th>\n",
       "      <td>1.0</td>\n",
       "      <td>-1.358354</td>\n",
       "      <td>-1.340163</td>\n",
       "      <td>1.773209</td>\n",
       "      <td>0.379780</td>\n",
       "      <td>-0.503198</td>\n",
       "      <td>1.800499</td>\n",
       "      <td>0.791461</td>\n",
       "      <td>0.247676</td>\n",
       "      <td>-1.514654</td>\n",
       "      <td>...</td>\n",
       "      <td>0.247998</td>\n",
       "      <td>0.771679</td>\n",
       "      <td>0.909412</td>\n",
       "      <td>-0.689281</td>\n",
       "      <td>-0.327642</td>\n",
       "      <td>-0.139097</td>\n",
       "      <td>-0.055353</td>\n",
       "      <td>-0.059752</td>\n",
       "      <td>378.66</td>\n",
       "      <td>0</td>\n",
       "    </tr>\n",
       "    <tr>\n",
       "      <th>3</th>\n",
       "      <td>1.0</td>\n",
       "      <td>-0.966272</td>\n",
       "      <td>-0.185226</td>\n",
       "      <td>1.792993</td>\n",
       "      <td>-0.863291</td>\n",
       "      <td>-0.010309</td>\n",
       "      <td>1.247203</td>\n",
       "      <td>0.237609</td>\n",
       "      <td>0.377436</td>\n",
       "      <td>-1.387024</td>\n",
       "      <td>...</td>\n",
       "      <td>-0.108300</td>\n",
       "      <td>0.005274</td>\n",
       "      <td>-0.190321</td>\n",
       "      <td>-1.175575</td>\n",
       "      <td>0.647376</td>\n",
       "      <td>-0.221929</td>\n",
       "      <td>0.062723</td>\n",
       "      <td>0.061458</td>\n",
       "      <td>123.50</td>\n",
       "      <td>0</td>\n",
       "    </tr>\n",
       "    <tr>\n",
       "      <th>4</th>\n",
       "      <td>2.0</td>\n",
       "      <td>-1.158233</td>\n",
       "      <td>0.877737</td>\n",
       "      <td>1.548718</td>\n",
       "      <td>0.403034</td>\n",
       "      <td>-0.407193</td>\n",
       "      <td>0.095921</td>\n",
       "      <td>0.592941</td>\n",
       "      <td>-0.270533</td>\n",
       "      <td>0.817739</td>\n",
       "      <td>...</td>\n",
       "      <td>-0.009431</td>\n",
       "      <td>0.798278</td>\n",
       "      <td>-0.137458</td>\n",
       "      <td>0.141267</td>\n",
       "      <td>-0.206010</td>\n",
       "      <td>0.502292</td>\n",
       "      <td>0.219422</td>\n",
       "      <td>0.215153</td>\n",
       "      <td>69.99</td>\n",
       "      <td>0</td>\n",
       "    </tr>\n",
       "  </tbody>\n",
       "</table>\n",
       "<p>5 rows × 31 columns</p>\n",
       "</div>"
      ],
      "text/plain": [
       "   Time        V1        V2        V3        V4        V5        V6        V7  \\\n",
       "0   0.0 -1.359807 -0.072781  2.536347  1.378155 -0.338321  0.462388  0.239599   \n",
       "1   0.0  1.191857  0.266151  0.166480  0.448154  0.060018 -0.082361 -0.078803   \n",
       "2   1.0 -1.358354 -1.340163  1.773209  0.379780 -0.503198  1.800499  0.791461   \n",
       "3   1.0 -0.966272 -0.185226  1.792993 -0.863291 -0.010309  1.247203  0.237609   \n",
       "4   2.0 -1.158233  0.877737  1.548718  0.403034 -0.407193  0.095921  0.592941   \n",
       "\n",
       "         V8        V9  ...         V21       V22       V23       V24  \\\n",
       "0  0.098698  0.363787  ...   -0.018307  0.277838 -0.110474  0.066928   \n",
       "1  0.085102 -0.255425  ...   -0.225775 -0.638672  0.101288 -0.339846   \n",
       "2  0.247676 -1.514654  ...    0.247998  0.771679  0.909412 -0.689281   \n",
       "3  0.377436 -1.387024  ...   -0.108300  0.005274 -0.190321 -1.175575   \n",
       "4 -0.270533  0.817739  ...   -0.009431  0.798278 -0.137458  0.141267   \n",
       "\n",
       "        V25       V26       V27       V28  Amount  Class  \n",
       "0  0.128539 -0.189115  0.133558 -0.021053  149.62      0  \n",
       "1  0.167170  0.125895 -0.008983  0.014724    2.69      0  \n",
       "2 -0.327642 -0.139097 -0.055353 -0.059752  378.66      0  \n",
       "3  0.647376 -0.221929  0.062723  0.061458  123.50      0  \n",
       "4 -0.206010  0.502292  0.219422  0.215153   69.99      0  \n",
       "\n",
       "[5 rows x 31 columns]"
      ]
     },
     "execution_count": 1,
     "metadata": {},
     "output_type": "execute_result"
    }
   ],
   "source": [
    "import pandas as pd\n",
    "dataset = pd.read_csv('creditcard.csv')\n",
    "dataset.head()"
   ]
  },
  {
   "cell_type": "code",
   "execution_count": 2,
   "metadata": {},
   "outputs": [
    {
     "data": {
      "text/plain": [
       "(284807, 31)"
      ]
     },
     "execution_count": 2,
     "metadata": {},
     "output_type": "execute_result"
    }
   ],
   "source": [
    "dataset.shape"
   ]
  },
  {
   "cell_type": "markdown",
   "metadata": {},
   "source": [
    "This is a large dataset. It is made up of 31 columns and 284,807 samples of real credit card transactions. Most of the columns have, for privacy reasons, been anonymized. The last column is class, a value of 0 indicating a non-fraudulent transaction, and 1 indicating a non-fraudulent transaction. The class column is the target (dependent variable) and the others are the features (independent variables). Next I investigate the number of fraudulent and non-fraudulent transactions."
   ]
  },
  {
   "cell_type": "code",
   "execution_count": 3,
   "metadata": {},
   "outputs": [
    {
     "data": {
      "text/plain": [
       "(0    284315\n",
       " 1       492\n",
       " Name: Class, dtype: int64, 0.001727485630620034)"
      ]
     },
     "execution_count": 3,
     "metadata": {},
     "output_type": "execute_result"
    }
   ],
   "source": [
    "dataset.Class.value_counts(), dataset.Class.mean()"
   ]
  },
  {
   "cell_type": "markdown",
   "metadata": {},
   "source": [
    "Out of the 284,807 transactions in the dataset, 284,315 (99.8%) are non-fraudulent and only 492 (0.2%) are fraudulent, meaning that this dataset is highly imbalanced.\n",
    "\n",
    "#### Establishing a Baseline\n",
    "To begin with, I will run a cross validated logistic regression classifier to establish baseline recall and precision scores. The accuracy score is irrelevant to this problem. Also note that, due to the highly imbalanced nature of the dataset, the null classifier (a classifier that simply assigns all samples to the most frequently occurring class) would have an accuracy score of 99.8%!\n",
    "\n",
    "I will use Sci-Kit Learn's LogisticRegerssion and cross_val_score packages. The logistic regression classifier is cross validated over 10 folds. "
   ]
  },
  {
   "cell_type": "code",
   "execution_count": 4,
   "metadata": {},
   "outputs": [
    {
     "name": "stdout",
     "output_type": "stream",
     "text": [
      "{'Recall': 0.6085714285714285, 'Precision': 0.8403980762803129}\n"
     ]
    }
   ],
   "source": [
    "import numpy as np\n",
    "from sklearn.linear_model import LogisticRegression\n",
    "from sklearn.model_selection import cross_val_score\n",
    "\n",
    "X = np.array(dataset.iloc[:, dataset.columns != 'Class'])\n",
    "y = np.array(dataset.iloc[:, dataset.columns == 'Class']).reshape(len(X),)\n",
    "results = {}\n",
    "\n",
    "for score in ['Recall', 'Precision']:\n",
    "    logreg = LogisticRegression(solver = 'liblinear')\n",
    "    results[score] = cross_val_score(logreg, X, y, cv = 10, scoring = score.lower()).mean()\n",
    "print(results)"
   ]
  },
  {
   "cell_type": "markdown",
   "metadata": {},
   "source": [
    "The results of the baseline classifier are not good. The recall and precision scores are about 61% and 84%, respectively. This means that, of those sample classified as fraudulent, 84% of actually are, however, these themselves make up only 61% of all fraudulent transactions. Using this classifier in a real world application would mean potentially missing 39% of fraudulent credit card transactions.  \n",
    "\n",
    "The Logistic Regression classifier works by first calculating a probability that a given sample (feature vector) belongs to the fraudulent class. Next it assigns all samples whose probability is greater than a certain threshold to the positive class (in our case that is the fraudulent class). Sci-Kit Learn sets this threshold at 0.5.\n",
    "\n",
    "By decreasing this threshold we can improve the recall score of the model. However this comes at the cost of a lower level of precision. In short, we will correctly classify more of the fraudulent transactions, but end up with more non-fraudulent transactions being classified as fraudulent as well. The challenge here is to increase the recall score while maintaining a reasonable level of precision. We may get lucky however. It may be the case that we can increase the recall score without a large reduction in precision such that it remains reasonable.\n",
    "\n",
    "Unfortunately there is no way to adjust the probability threshold on Sci-Kit Learn while using the cross validation. To do so we must build our own folds and test each manually.\n",
    "\n",
    "#### Creating a K-Fold Cross Validation Algorithm Manually\n",
    "To create our own cross validation algorithm, we first create 10 folds using Ski-Kit Learn's StratifiedKFold package. The 'Stratified' in the name tells us that it maintains the class distributions in the target when creating the train and test splits. To test that the algorithm performs as expected, I first run it using a probability threshold of 0.5 in order to compare the results to the previous ones. "
   ]
  },
  {
   "cell_type": "code",
   "execution_count": 5,
   "metadata": {},
   "outputs": [
    {
     "name": "stdout",
     "output_type": "stream",
     "text": [
      "{'Recall': 0.6085714285714285, 'Precision': 0.8403980762803129}\n"
     ]
    }
   ],
   "source": [
    "from sklearn.model_selection import StratifiedKFold\n",
    "from sklearn import metrics\n",
    "\n",
    "skf = StratifiedKFold(n_splits = 10)\n",
    "recall_list = []\n",
    "precision_list = []\n",
    "    \n",
    "for train_index, test_index in skf.split(X, y):\n",
    "    X_train, X_test = X[train_index], X[test_index]\n",
    "    y_train, y_test = y[train_index], y[test_index]\n",
    "    logreg = LogisticRegression(solver = 'liblinear')\n",
    "    logreg.fit(X_train, y_train)\n",
    "    y_pred_proba = logreg.predict_proba(X_test)[:, 1]\n",
    "    y_pred_class = [1 if p > 0.5 else 0 for p in y_pred_proba]\n",
    "    recall_list.append(metrics.recall_score(y_test, y_pred_class))\n",
    "    precision_list.append(metrics.precision_score(y_test, y_pred_class))\n",
    "results = {'Recall': np.mean(recall_list), 'Precision': np.mean(precision_list)}\n",
    "print(results)"
   ]
  },
  {
   "cell_type": "markdown",
   "metadata": {},
   "source": [
    "The results of our algorithm are exactly the same as the ones produced by the built in cross_val_score package. We can now confidently move on to adjusting the probability threshold.\n",
    "\n",
    "#### Adjusting Probability Threshold\n",
    "I now wrap my previous algorithm in a for loop to generate results for various probability thresholds (0.01 to 0.1, in increments of 0.01). I also save the recall and precision results for each threshold in recall_all_features and precision_all_features lists. "
   ]
  },
  {
   "cell_type": "code",
   "execution_count": 6,
   "metadata": {},
   "outputs": [
    {
     "name": "stdout",
     "output_type": "stream",
     "text": [
      "----------------------------------------------------------------------------\n",
      "Threshold: 0.01\n",
      "{'Recall': 0.8102448979591838, 'Precision': 0.38217657300567154}\n",
      "----------------------------------------------------------------------------\n",
      "Threshold: 0.02\n",
      "{'Recall': 0.7755510204081633, 'Precision': 0.5216371629104887}\n",
      "----------------------------------------------------------------------------\n",
      "Threshold: 0.03\n",
      "{'Recall': 0.7634285714285716, 'Precision': 0.5804849842726745}\n",
      "----------------------------------------------------------------------------\n",
      "Threshold: 0.04\n",
      "{'Recall': 0.7532244897959184, 'Precision': 0.62344967815037}\n",
      "----------------------------------------------------------------------------\n",
      "Threshold: 0.05\n",
      "{'Recall': 0.745061224489796, 'Precision': 0.6545254799148028}\n",
      "----------------------------------------------------------------------------\n",
      "Threshold: 0.06\n",
      "{'Recall': 0.7348571428571429, 'Precision': 0.6691622537705219}\n",
      "----------------------------------------------------------------------------\n",
      "Threshold: 0.07\n",
      "{'Recall': 0.7307755102040815, 'Precision': 0.6885769656552103}\n",
      "----------------------------------------------------------------------------\n",
      "Threshold: 0.08\n",
      "{'Recall': 0.722612244897959, 'Precision': 0.7028937552220123}\n",
      "----------------------------------------------------------------------------\n",
      "Threshold: 0.09\n",
      "{'Recall': 0.7165306122448979, 'Precision': 0.7116558783611363}\n",
      "----------------------------------------------------------------------------\n",
      "Threshold: 0.1\n",
      "{'Recall': 0.7124489795918367, 'Precision': 0.7211867418646473}\n"
     ]
    }
   ],
   "source": [
    "skf = StratifiedKFold(n_splits = 10)\n",
    "\n",
    "recall_all_features = []\n",
    "precision_all_features = []\n",
    "\n",
    "for threshold in [i/100 for i in range(1, 11)]:\n",
    "    recall_list = []\n",
    "    precision_list = []\n",
    "    for train_index, test_index in skf.split(X, y):\n",
    "        X_train, X_test = X[train_index], X[test_index]\n",
    "        y_train, y_test = y[train_index], y[test_index]\n",
    "        logreg = LogisticRegression(solver = 'liblinear')\n",
    "        logreg.fit(X_train, y_train)\n",
    "        y_pred_proba = logreg.predict_proba(X_test)[:, 1]\n",
    "        y_pred_class = [1 if p > threshold else 0 for p in y_pred_proba]\n",
    "        recall_list.append(metrics.recall_score(y_test, y_pred_class))\n",
    "        precision_list.append(metrics.precision_score(y_test, y_pred_class))\n",
    "    recall_all_features.append(np.mean(recall_list))\n",
    "    precision_all_features.append(np.mean(precision_list))\n",
    "    results = {'Recall': np.mean(recall_list), 'Precision': np.mean(precision_list)}\n",
    "    print('----------------------------------------------------------------------------')\n",
    "    print('Threshold: ' + str(threshold))\n",
    "    print(results)"
   ]
  },
  {
   "cell_type": "markdown",
   "metadata": {},
   "source": [
    "The results are as expected. As the threshold decreases, the recall score increases and the precision score decreases. At a probability threshold of 0.01, the recall is improved, up from 61% to 81%, a 20 percentage point increase. However, at that level the precision has deteriorated significantly, down from 84% to 38%. In most real life situations, this would not be feasible. However the results do show some improvement. With a threshold of 0.08, the precision is improved, up 11 percentage points to 72%, while the precision level remains above 70%. \n",
    "\n",
    "We can attempt to improve these results by performing some feature selection.\n",
    "\n",
    "#### Feature Selection\n",
    "The model currently has 30 features. Some may contain more noise than signal, removing those may improve the model.\n",
    "\n",
    "To identify the most relevant features I will use fit the model using statsmodels Logit package. This will allow me to see the coefficients of the feature variables and the their corresponding p-values (not possible using Sci-Kit Learn). Note that I add a column of ones to as a constant because the Logit package does not assume a bias term by default."
   ]
  },
  {
   "cell_type": "code",
   "execution_count": 7,
   "metadata": {},
   "outputs": [
    {
     "name": "stdout",
     "output_type": "stream",
     "text": [
      "Optimization terminated successfully.\n",
      "         Current function value: 0.003914\n",
      "         Iterations 13\n"
     ]
    },
    {
     "data": {
      "text/html": [
       "<table class=\"simpletable\">\n",
       "<caption>Logit Regression Results</caption>\n",
       "<tr>\n",
       "  <th>Dep. Variable:</th>       <td>Class</td>      <th>  No. Observations:  </th>  <td>284807</td> \n",
       "</tr>\n",
       "<tr>\n",
       "  <th>Model:</th>               <td>Logit</td>      <th>  Df Residuals:      </th>  <td>284776</td> \n",
       "</tr>\n",
       "<tr>\n",
       "  <th>Method:</th>               <td>MLE</td>       <th>  Df Model:          </th>  <td>    30</td> \n",
       "</tr>\n",
       "<tr>\n",
       "  <th>Date:</th>          <td>Sun, 21 Oct 2018</td> <th>  Pseudo R-squ.:     </th>  <td>0.6922</td> \n",
       "</tr>\n",
       "<tr>\n",
       "  <th>Time:</th>              <td>11:51:12</td>     <th>  Log-Likelihood:    </th> <td> -1114.8</td>\n",
       "</tr>\n",
       "<tr>\n",
       "  <th>converged:</th>           <td>True</td>       <th>  LL-Null:           </th> <td> -3621.2</td>\n",
       "</tr>\n",
       "<tr>\n",
       "  <th> </th>                      <td> </td>        <th>  LLR p-value:       </th>  <td> 0.000</td> \n",
       "</tr>\n",
       "</table>\n",
       "<table class=\"simpletable\">\n",
       "<tr>\n",
       "      <td></td>        <th>coef</th>     <th>std err</th>      <th>z</th>      <th>P>|z|</th>  <th>[0.025</th>    <th>0.975]</th>  \n",
       "</tr>\n",
       "<tr>\n",
       "  <th>Time</th>     <td>-3.742e-06</td> <td> 2.26e-06</td> <td>   -1.659</td> <td> 0.097</td> <td>-8.16e-06</td> <td> 6.79e-07</td>\n",
       "</tr>\n",
       "<tr>\n",
       "  <th>V1</th>       <td>    0.0960</td> <td>    0.042</td> <td>    2.264</td> <td> 0.024</td> <td>    0.013</td> <td>    0.179</td>\n",
       "</tr>\n",
       "<tr>\n",
       "  <th>V2</th>       <td>    0.0094</td> <td>    0.058</td> <td>    0.161</td> <td> 0.872</td> <td>   -0.104</td> <td>    0.123</td>\n",
       "</tr>\n",
       "<tr>\n",
       "  <th>V3</th>       <td>   -0.0079</td> <td>    0.053</td> <td>   -0.149</td> <td> 0.881</td> <td>   -0.112</td> <td>    0.096</td>\n",
       "</tr>\n",
       "<tr>\n",
       "  <th>V4</th>       <td>    0.6986</td> <td>    0.074</td> <td>    9.454</td> <td> 0.000</td> <td>    0.554</td> <td>    0.843</td>\n",
       "</tr>\n",
       "<tr>\n",
       "  <th>V5</th>       <td>    0.1295</td> <td>    0.067</td> <td>    1.944</td> <td> 0.052</td> <td>   -0.001</td> <td>    0.260</td>\n",
       "</tr>\n",
       "<tr>\n",
       "  <th>V6</th>       <td>   -0.1198</td> <td>    0.074</td> <td>   -1.626</td> <td> 0.104</td> <td>   -0.264</td> <td>    0.025</td>\n",
       "</tr>\n",
       "<tr>\n",
       "  <th>V7</th>       <td>   -0.0969</td> <td>    0.067</td> <td>   -1.453</td> <td> 0.146</td> <td>   -0.228</td> <td>    0.034</td>\n",
       "</tr>\n",
       "<tr>\n",
       "  <th>V8</th>       <td>   -0.1739</td> <td>    0.030</td> <td>   -5.711</td> <td> 0.000</td> <td>   -0.234</td> <td>   -0.114</td>\n",
       "</tr>\n",
       "<tr>\n",
       "  <th>V9</th>       <td>   -0.2843</td> <td>    0.111</td> <td>   -2.561</td> <td> 0.010</td> <td>   -0.502</td> <td>   -0.067</td>\n",
       "</tr>\n",
       "<tr>\n",
       "  <th>V10</th>      <td>   -0.8176</td> <td>    0.097</td> <td>   -8.432</td> <td> 0.000</td> <td>   -1.008</td> <td>   -0.628</td>\n",
       "</tr>\n",
       "<tr>\n",
       "  <th>V11</th>      <td>   -0.0621</td> <td>    0.081</td> <td>   -0.762</td> <td> 0.446</td> <td>   -0.222</td> <td>    0.098</td>\n",
       "</tr>\n",
       "<tr>\n",
       "  <th>V12</th>      <td>    0.0909</td> <td>    0.087</td> <td>    1.045</td> <td> 0.296</td> <td>   -0.080</td> <td>    0.261</td>\n",
       "</tr>\n",
       "<tr>\n",
       "  <th>V13</th>      <td>   -0.3312</td> <td>    0.082</td> <td>   -4.058</td> <td> 0.000</td> <td>   -0.491</td> <td>   -0.171</td>\n",
       "</tr>\n",
       "<tr>\n",
       "  <th>V14</th>      <td>   -0.5571</td> <td>    0.062</td> <td>   -8.949</td> <td> 0.000</td> <td>   -0.679</td> <td>   -0.435</td>\n",
       "</tr>\n",
       "<tr>\n",
       "  <th>V15</th>      <td>   -0.1141</td> <td>    0.086</td> <td>   -1.330</td> <td> 0.183</td> <td>   -0.282</td> <td>    0.054</td>\n",
       "</tr>\n",
       "<tr>\n",
       "  <th>V16</th>      <td>   -0.1908</td> <td>    0.125</td> <td>   -1.526</td> <td> 0.127</td> <td>   -0.436</td> <td>    0.054</td>\n",
       "</tr>\n",
       "<tr>\n",
       "  <th>V17</th>      <td>   -0.0216</td> <td>    0.070</td> <td>   -0.309</td> <td> 0.757</td> <td>   -0.159</td> <td>    0.116</td>\n",
       "</tr>\n",
       "<tr>\n",
       "  <th>V18</th>      <td>   -0.0131</td> <td>    0.129</td> <td>   -0.102</td> <td> 0.919</td> <td>   -0.266</td> <td>    0.240</td>\n",
       "</tr>\n",
       "<tr>\n",
       "  <th>V19</th>      <td>    0.0963</td> <td>    0.097</td> <td>    0.993</td> <td> 0.321</td> <td>   -0.094</td> <td>    0.286</td>\n",
       "</tr>\n",
       "<tr>\n",
       "  <th>V20</th>      <td>   -0.4582</td> <td>    0.082</td> <td>   -5.607</td> <td> 0.000</td> <td>   -0.618</td> <td>   -0.298</td>\n",
       "</tr>\n",
       "<tr>\n",
       "  <th>V21</th>      <td>    0.3898</td> <td>    0.060</td> <td>    6.494</td> <td> 0.000</td> <td>    0.272</td> <td>    0.507</td>\n",
       "</tr>\n",
       "<tr>\n",
       "  <th>V22</th>      <td>    0.6297</td> <td>    0.134</td> <td>    4.707</td> <td> 0.000</td> <td>    0.367</td> <td>    0.892</td>\n",
       "</tr>\n",
       "<tr>\n",
       "  <th>V23</th>      <td>   -0.0951</td> <td>    0.058</td> <td>   -1.629</td> <td> 0.103</td> <td>   -0.209</td> <td>    0.019</td>\n",
       "</tr>\n",
       "<tr>\n",
       "  <th>V24</th>      <td>    0.1289</td> <td>    0.147</td> <td>    0.874</td> <td> 0.382</td> <td>   -0.160</td> <td>    0.418</td>\n",
       "</tr>\n",
       "<tr>\n",
       "  <th>V25</th>      <td>   -0.0761</td> <td>    0.131</td> <td>   -0.582</td> <td> 0.560</td> <td>   -0.332</td> <td>    0.180</td>\n",
       "</tr>\n",
       "<tr>\n",
       "  <th>V26</th>      <td>    0.0195</td> <td>    0.190</td> <td>    0.103</td> <td> 0.918</td> <td>   -0.352</td> <td>    0.392</td>\n",
       "</tr>\n",
       "<tr>\n",
       "  <th>V27</th>      <td>   -0.8188</td> <td>    0.122</td> <td>   -6.686</td> <td> 0.000</td> <td>   -1.059</td> <td>   -0.579</td>\n",
       "</tr>\n",
       "<tr>\n",
       "  <th>V28</th>      <td>   -0.2937</td> <td>    0.088</td> <td>   -3.332</td> <td> 0.001</td> <td>   -0.467</td> <td>   -0.121</td>\n",
       "</tr>\n",
       "<tr>\n",
       "  <th>Amount</th>   <td>    0.0009</td> <td>    0.000</td> <td>    2.449</td> <td> 0.014</td> <td>    0.000</td> <td>    0.002</td>\n",
       "</tr>\n",
       "<tr>\n",
       "  <th>Constant</th> <td>   -8.3917</td> <td>    0.249</td> <td>  -33.652</td> <td> 0.000</td> <td>   -8.880</td> <td>   -7.903</td>\n",
       "</tr>\n",
       "</table><br/><br/>Possibly complete quasi-separation: A fraction 0.31 of observations can be<br/>perfectly predicted. This might indicate that there is complete<br/>quasi-separation. In this case some parameters will not be identified."
      ],
      "text/plain": [
       "<class 'statsmodels.iolib.summary.Summary'>\n",
       "\"\"\"\n",
       "                           Logit Regression Results                           \n",
       "==============================================================================\n",
       "Dep. Variable:                  Class   No. Observations:               284807\n",
       "Model:                          Logit   Df Residuals:                   284776\n",
       "Method:                           MLE   Df Model:                           30\n",
       "Date:                Sun, 21 Oct 2018   Pseudo R-squ.:                  0.6922\n",
       "Time:                        11:51:12   Log-Likelihood:                -1114.8\n",
       "converged:                       True   LL-Null:                       -3621.2\n",
       "                                        LLR p-value:                     0.000\n",
       "==============================================================================\n",
       "                 coef    std err          z      P>|z|      [0.025      0.975]\n",
       "------------------------------------------------------------------------------\n",
       "Time       -3.742e-06   2.26e-06     -1.659      0.097   -8.16e-06    6.79e-07\n",
       "V1             0.0960      0.042      2.264      0.024       0.013       0.179\n",
       "V2             0.0094      0.058      0.161      0.872      -0.104       0.123\n",
       "V3            -0.0079      0.053     -0.149      0.881      -0.112       0.096\n",
       "V4             0.6986      0.074      9.454      0.000       0.554       0.843\n",
       "V5             0.1295      0.067      1.944      0.052      -0.001       0.260\n",
       "V6            -0.1198      0.074     -1.626      0.104      -0.264       0.025\n",
       "V7            -0.0969      0.067     -1.453      0.146      -0.228       0.034\n",
       "V8            -0.1739      0.030     -5.711      0.000      -0.234      -0.114\n",
       "V9            -0.2843      0.111     -2.561      0.010      -0.502      -0.067\n",
       "V10           -0.8176      0.097     -8.432      0.000      -1.008      -0.628\n",
       "V11           -0.0621      0.081     -0.762      0.446      -0.222       0.098\n",
       "V12            0.0909      0.087      1.045      0.296      -0.080       0.261\n",
       "V13           -0.3312      0.082     -4.058      0.000      -0.491      -0.171\n",
       "V14           -0.5571      0.062     -8.949      0.000      -0.679      -0.435\n",
       "V15           -0.1141      0.086     -1.330      0.183      -0.282       0.054\n",
       "V16           -0.1908      0.125     -1.526      0.127      -0.436       0.054\n",
       "V17           -0.0216      0.070     -0.309      0.757      -0.159       0.116\n",
       "V18           -0.0131      0.129     -0.102      0.919      -0.266       0.240\n",
       "V19            0.0963      0.097      0.993      0.321      -0.094       0.286\n",
       "V20           -0.4582      0.082     -5.607      0.000      -0.618      -0.298\n",
       "V21            0.3898      0.060      6.494      0.000       0.272       0.507\n",
       "V22            0.6297      0.134      4.707      0.000       0.367       0.892\n",
       "V23           -0.0951      0.058     -1.629      0.103      -0.209       0.019\n",
       "V24            0.1289      0.147      0.874      0.382      -0.160       0.418\n",
       "V25           -0.0761      0.131     -0.582      0.560      -0.332       0.180\n",
       "V26            0.0195      0.190      0.103      0.918      -0.352       0.392\n",
       "V27           -0.8188      0.122     -6.686      0.000      -1.059      -0.579\n",
       "V28           -0.2937      0.088     -3.332      0.001      -0.467      -0.121\n",
       "Amount         0.0009      0.000      2.449      0.014       0.000       0.002\n",
       "Constant      -8.3917      0.249    -33.652      0.000      -8.880      -7.903\n",
       "==============================================================================\n",
       "\n",
       "Possibly complete quasi-separation: A fraction 0.31 of observations can be\n",
       "perfectly predicted. This might indicate that there is complete\n",
       "quasi-separation. In this case some parameters will not be identified.\n",
       "\"\"\""
      ]
     },
     "execution_count": 7,
     "metadata": {},
     "output_type": "execute_result"
    }
   ],
   "source": [
    "from statsmodels.discrete.discrete_model import Logit\n",
    "\n",
    "dataset['Constant'] = [1]*len(dataset)\n",
    "X = dataset.iloc[:, dataset.columns != 'Class']\n",
    "y = dataset.iloc[:, dataset.columns == 'Class']\n",
    "del dataset['Constant']\n",
    "\n",
    "logreg = Logit(y, X)\n",
    "results = logreg.fit()\n",
    "results.summary()"
   ]
  },
  {
   "cell_type": "markdown",
   "metadata": {},
   "source": [
    "We are interested in the p-values of the coefficients. Many of our features seem to be insignificantly different from zero. V17 for example has a p-value of 0.757. Removing those features that are insignificant may improve the results of the model. Next I isolate the features with a p-value of less than 0.05.\n",
    "\n",
    "Note a better theoretically superior method is to use forward or backward step selection. However, due to the large number of features and samples, this would be computationally expensive."
   ]
  },
  {
   "cell_type": "code",
   "execution_count": 8,
   "metadata": {},
   "outputs": [
    {
     "data": {
      "text/plain": [
       "(Index(['V1', 'V4', 'V8', 'V9', 'V10', 'V13', 'V14', 'V20', 'V21', 'V22', 'V27',\n",
       "        'V28', 'Amount'],\n",
       "       dtype='object'), 13)"
      ]
     },
     "execution_count": 8,
     "metadata": {},
     "output_type": "execute_result"
    }
   ],
   "source": [
    "cols = results.pvalues[results.pvalues < 0.05].index\n",
    "cols = cols[cols != 'Constant']\n",
    "cols, len(cols)"
   ]
  },
  {
   "cell_type": "markdown",
   "metadata": {},
   "source": [
    "There are 13 features (shown above) that have p-values of less than 0.05. Rerunning the regression classifier using only these features may improve the results."
   ]
  },
  {
   "cell_type": "code",
   "execution_count": 9,
   "metadata": {},
   "outputs": [
    {
     "name": "stdout",
     "output_type": "stream",
     "text": [
      "Features Used: ['V1', 'V4', 'V8', 'V9', 'V10', 'V13', 'V14', 'V20', 'V21', 'V22', 'V27', 'V28', 'Amount']\n",
      "----------------------------------------------------------------------------\n",
      "Threshold: 0.01\n",
      "{'Recall': 0.8516734693877552, 'Precision': 0.3173983152264528}\n",
      "----------------------------------------------------------------------------\n",
      "Threshold: 0.02\n",
      "{'Recall': 0.8333877551020409, 'Precision': 0.5988223289887722}\n",
      "----------------------------------------------------------------------------\n",
      "Threshold: 0.03\n",
      "{'Recall': 0.815061224489796, 'Precision': 0.6773725986771526}\n",
      "----------------------------------------------------------------------------\n",
      "Threshold: 0.04\n",
      "{'Recall': 0.798734693877551, 'Precision': 0.7088422962417045}\n",
      "----------------------------------------------------------------------------\n",
      "Threshold: 0.05\n",
      "{'Recall': 0.7865306122448981, 'Precision': 0.7380011985012496}\n",
      "----------------------------------------------------------------------------\n",
      "Threshold: 0.06\n",
      "{'Recall': 0.7742857142857142, 'Precision': 0.7574258722265275}\n",
      "----------------------------------------------------------------------------\n",
      "Threshold: 0.07\n",
      "{'Recall': 0.7641632653061224, 'Precision': 0.7743731010368512}\n",
      "----------------------------------------------------------------------------\n",
      "Threshold: 0.08\n",
      "{'Recall': 0.7580816326530612, 'Precision': 0.7865673169008507}\n",
      "----------------------------------------------------------------------------\n",
      "Threshold: 0.09\n",
      "{'Recall': 0.7519591836734694, 'Precision': 0.795535351197024}\n",
      "----------------------------------------------------------------------------\n",
      "Threshold: 0.1\n",
      "{'Recall': 0.7377551020408164, 'Precision': 0.8017470646873885}\n"
     ]
    }
   ],
   "source": [
    "X = np.array(dataset[cols])\n",
    "y = np.array(dataset.iloc[:, dataset.columns == 'Class']).reshape(len(X),)\n",
    "\n",
    "features = []\n",
    "for c in cols:\n",
    "    features.append(c)\n",
    "print('Features Used: ' + str(features))\n",
    "\n",
    "skf = StratifiedKFold(n_splits = 10)\n",
    "\n",
    "recall_sig_features = []\n",
    "precision_sig_features = []\n",
    "\n",
    "for threshold in [i/100 for i in range(1, 11)]:\n",
    "    recall_list = []\n",
    "    precision_list = []\n",
    "    for train_index, test_index in skf.split(X, y):\n",
    "        X_train, X_test = X[train_index], X[test_index]\n",
    "        y_train, y_test = y[train_index], y[test_index]\n",
    "        logreg = LogisticRegression(solver = 'liblinear')\n",
    "        logreg.fit(X_train, y_train)\n",
    "        y_pred_proba = logreg.predict_proba(X_test)[:, 1]\n",
    "        y_pred_class = [1 if p > threshold else 0 for p in y_pred_proba]\n",
    "        recall_list.append(metrics.recall_score(y_test, y_pred_class))\n",
    "        precision_list.append(metrics.precision_score(y_test, y_pred_class)) \n",
    "    recall_sig_features.append(np.mean(recall_list))\n",
    "    precision_sig_features.append(np.mean(precision_list))\n",
    "    results = {'Recall': np.mean(recall_list), 'Precision': np.mean(precision_list)}\n",
    "    print('----------------------------------------------------------------------------')\n",
    "    print('Threshold: ' + str(threshold))\n",
    "    print(results)"
   ]
  },
  {
   "cell_type": "markdown",
   "metadata": {},
   "source": [
    "The results have improved. With a precision level of 70%, recall is 80%, an 8 percentage point improvement from the previous model that used all the features. \n",
    "\n",
    "Compared to the baseline case, at a threshold of 0.04 and with feature selection, there is a 19 percentage point increase in recall at the cost of 18 percentage point decrease in precision. This is in contrast to the previous model with no feature selection, where ate a threshold of 0.04, there was a smaller 15 percentage point increase in recall at the cost of a larger 22 percentage point decrease in precision.\n",
    "\n",
    "#### Conclusion\n",
    "\n",
    "A plot of the recall and precision at each threshold level will help in visualizing the results."
   ]
  },
  {
   "cell_type": "code",
   "execution_count": 10,
   "metadata": {},
   "outputs": [
    {
     "data": {
      "image/png": "[encoded data removed]",
      "text/plain": [
       "<Figure size 864x432 with 1 Axes>"
      ]
     },
     "metadata": {},
     "output_type": "display_data"
    }
   ],
   "source": [
    "import matplotlib.pyplot as plt\n",
    "%matplotlib inline\n",
    "plt.figure(figsize = (12, 6))\n",
    "plt.plot(precision_all_features, recall_all_features, color = 'blue', label = 'All Features')\n",
    "plt.plot(precision_sig_features, recall_sig_features, color = 'red', label = 'Significant Features')\n",
    "plt.title('Precision V Recall as Threshold Increases', fontsize = 14)\n",
    "plt.xlabel('Precision', fontsize = 14)\n",
    "plt.ylabel('Recall', fontsize = 14)\n",
    "plt.legend(fontsize = 14)\n",
    "plt.grid(True)\n",
    "plt.show()"
   ]
  },
  {
   "cell_type": "markdown",
   "metadata": {},
   "source": [
    "The negative slope of the curves is a result of the recall precision trade-off. At all thresholds and precision scores, the model with only the significant features has a higher recall score than the model with all features.\n",
    "\n",
    "This shows that simple feature selection adjustment of threshold probability can markedly improve classification results on imbalanced datasets."
   ]
  }
 ],
 "metadata": {
  "kernelspec": {
   "display_name": "Python 3",
   "language": "python",
   "name": "python3"
  },
  "language_info": {
   "codemirror_mode": {
    "name": "ipython",
    "version": 3
   },
   "file_extension": ".py",
   "mimetype": "text/x-python",
   "name": "python",
   "nbconvert_exporter": "python",
   "pygments_lexer": "ipython3",
   "version": "3.6.5"
  }
 },
 "nbformat": 4,
 "nbformat_minor": 2
}
